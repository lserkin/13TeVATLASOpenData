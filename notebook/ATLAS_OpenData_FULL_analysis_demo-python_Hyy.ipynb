{
 "cells": [
  {
   "cell_type": "markdown",
   "metadata": {},
   "source": [
    "<CENTER><img src=\"http://opendata.atlas.cern/DataAndTools/pictures/ATLASOD.gif\" style=\"width:50%\"></CENTER>"
   ]
  },
  {
   "cell_type": "markdown",
   "metadata": {},
   "source": [
    "<CENTER><h1>Get running the full Hyy analysis using the 13 TeV dataset in Python</h1></CENTER>"
   ]
  },
  {
   "cell_type": "markdown",
   "metadata": {},
   "source": [
    "## Introduction\n",
    "We will run the full Hyy analysis using the 13 TeV dataset online!\n"
   ]
  },
  {
   "cell_type": "code",
   "execution_count": 1,
   "metadata": {
    "collapsed": true
   },
   "outputs": [],
   "source": [
    "import os\n",
    "import datetime"
   ]
  },
  {
   "cell_type": "code",
   "execution_count": 2,
   "metadata": {
    "collapsed": false
   },
   "outputs": [
    {
     "name": "stdout",
     "output_type": "stream",
     "text": [
      "Son Nov 17 12:36:07 CET 2019\n",
      "\n"
     ]
    }
   ],
   "source": [
    "starttime = datetime.datetime.now()\n",
    "\n",
    "myCmd = os.popen('date').read()\n",
    "print(myCmd)"
   ]
  },
  {
   "cell_type": "markdown",
   "metadata": {},
   "source": [
    "## First, we will get 13 TeV C++ analysis software\n",
    "Create a folder where the git clone will be stored"
   ]
  },
  {
   "cell_type": "code",
   "execution_count": 3,
   "metadata": {
    "collapsed": true
   },
   "outputs": [],
   "source": [
    "folder_demo = 'atlas-demo-Hyy'"
   ]
  },
  {
   "cell_type": "code",
   "execution_count": 4,
   "metadata": {
    "collapsed": false
   },
   "outputs": [
    {
     "data": {
      "text/plain": [
       "0"
      ]
     },
     "execution_count": 4,
     "metadata": {},
     "output_type": "execute_result"
    }
   ],
   "source": [
    "command1 = 'mkdir '+folder_demo\n",
    "os.system(command1)"
   ]
  },
  {
   "cell_type": "markdown",
   "metadata": {},
   "source": [
    "Show the contents in the current folder, and checck your new folder is there"
   ]
  },
  {
   "cell_type": "code",
   "execution_count": 5,
   "metadata": {
    "collapsed": false
   },
   "outputs": [
    {
     "name": "stdout",
     "output_type": "stream",
     "text": [
      "total 60K\n",
      "-rw-r--r-- 1 summerstudent users  13K Nov 17 12:26 demo-CHEP-2019-HZZ-web.ipynb\n",
      "-rw-r--r-- 1 summerstudent users  13K Nov 17 12:26 demo-CHEP-2019-HZZ-cern.ipynb\n",
      "-rw-r--r-- 1 summerstudent users  12K Nov 17 12:26 demo-CHEP-2019-Hyy-cern.ipynb\n",
      "-rw-r--r-- 1 summerstudent users 9.1K Nov 17 12:33 demo-CHEP-2019-Hyy-web.ipynb\n",
      "drwxr-xr-x 2 summerstudent users 4.0K Nov 17 12:36 atlas-demo-Hyy\n",
      "\n"
     ]
    }
   ],
   "source": [
    "myCmd = os.popen('ls -lhrt').read()\n",
    "print(myCmd)"
   ]
  },
  {
   "cell_type": "markdown",
   "metadata": {},
   "source": [
    "Print the current path/location"
   ]
  },
  {
   "cell_type": "code",
   "execution_count": 6,
   "metadata": {
    "collapsed": false
   },
   "outputs": [
    {
     "name": "stdout",
     "output_type": "stream",
     "text": [
      "/home/student/CHEP-2019/CERN_Summer_Student_demo_2019/notebooks\n",
      "\n"
     ]
    }
   ],
   "source": [
    "myCmd = os.popen('pwd').read()\n",
    "print(myCmd)"
   ]
  },
  {
   "cell_type": "markdown",
   "metadata": {},
   "source": [
    "Get into the folder which we just created"
   ]
  },
  {
   "cell_type": "code",
   "execution_count": 7,
   "metadata": {
    "collapsed": true
   },
   "outputs": [],
   "source": [
    "os.chdir(folder_demo+\"/\")"
   ]
  },
  {
   "cell_type": "markdown",
   "metadata": {},
   "source": [
    "Print the current path and check that you are really there"
   ]
  },
  {
   "cell_type": "code",
   "execution_count": 8,
   "metadata": {
    "collapsed": false
   },
   "outputs": [
    {
     "name": "stdout",
     "output_type": "stream",
     "text": [
      "/home/student/CHEP-2019/CERN_Summer_Student_demo_2019/notebooks/atlas-demo-Hyy\n",
      "\n"
     ]
    }
   ],
   "source": [
    "myCmd = os.popen('pwd').read()\n",
    "print(myCmd)"
   ]
  },
  {
   "cell_type": "markdown",
   "metadata": {},
   "source": [
    "Clone the analysis code **(do this only once!)**"
   ]
  },
  {
   "cell_type": "code",
   "execution_count": 9,
   "metadata": {
    "collapsed": false
   },
   "outputs": [
    {
     "name": "stdout",
     "output_type": "stream",
     "text": [
      "\n"
     ]
    }
   ],
   "source": [
    "myCmd = os.popen('git clone https://github.com/atlas-outreach-data-tools/atlas-outreach-cpp-framework-13tev.git').read()\n",
    "print(myCmd)"
   ]
  },
  {
   "cell_type": "markdown",
   "metadata": {},
   "source": [
    "Get into the folder which contains the analysis code"
   ]
  },
  {
   "cell_type": "code",
   "execution_count": 10,
   "metadata": {
    "collapsed": true
   },
   "outputs": [],
   "source": [
    "os.chdir(\"atlas-outreach-cpp-framework-13tev/\")"
   ]
  },
  {
   "cell_type": "markdown",
   "metadata": {},
   "source": [
    "Print the current path and check that you are really there"
   ]
  },
  {
   "cell_type": "code",
   "execution_count": 11,
   "metadata": {
    "collapsed": false
   },
   "outputs": [
    {
     "name": "stdout",
     "output_type": "stream",
     "text": [
      "/home/student/CHEP-2019/CERN_Summer_Student_demo_2019/notebooks/atlas-demo-Hyy/atlas-outreach-cpp-framework-13tev/Alpha\n",
      "\n"
     ]
    }
   ],
   "source": [
    "myCmd = os.popen('pwd').read()\n",
    "print(myCmd)"
   ]
  },
  {
   "cell_type": "markdown",
   "metadata": {},
   "source": [
    "let's see the time"
   ]
  },
  {
   "cell_type": "code",
   "execution_count": 12,
   "metadata": {
    "collapsed": false
   },
   "outputs": [
    {
     "name": "stdout",
     "output_type": "stream",
     "text": [
      "Son Nov 17 12:36:08 CET 2019\n",
      "\n"
     ]
    }
   ],
   "source": [
    "myCmd = os.popen('date').read()\n",
    "print(myCmd)"
   ]
  },
  {
   "cell_type": "code",
   "execution_count": 13,
   "metadata": {
    "collapsed": false
   },
   "outputs": [
    {
     "name": "stdout",
     "output_type": "stream",
     "text": [
      "total 16K\n",
      "-rwxr-xr-x  1 summerstudent users 1.7K Nov 17 12:36 welcome.sh\n",
      "-rw-r--r--  1 summerstudent users 4.0K Nov 17 12:36 README.md\n",
      "drwxr-xr-x  4 summerstudent users 4.0K Nov 17 12:36 Plotting\n",
      "drwxr-xr-x 14 summerstudent users 4.0K Nov 17 12:36 Analysis\n",
      "\n"
     ]
    }
   ],
   "source": [
    "myCmd = os.popen('ls -lhrt').read()\n",
    "print(myCmd)"
   ]
  },
  {
   "cell_type": "markdown",
   "metadata": {},
   "source": [
    "let's create the output folders **(do this only the first time with option 1)**"
   ]
  },
  {
   "cell_type": "code",
   "execution_count": 14,
   "metadata": {
    "collapsed": false
   },
   "outputs": [
    {
     "data": {
      "text/plain": [
       "0"
      ]
     },
     "execution_count": 14,
     "metadata": {},
     "output_type": "execute_result"
    }
   ],
   "source": [
    "command3 = \"echo \\\"1\\\" | ./welcome.sh\"\n",
    "os.system(command3)"
   ]
  },
  {
   "cell_type": "markdown",
   "metadata": {},
   "source": [
    "### Let's run an Analysis now\n",
    "### Select one analysis\n",
    "#### The options are:"
   ]
  },
  {
   "cell_type": "code",
   "execution_count": 15,
   "metadata": {
    "collapsed": true
   },
   "outputs": [],
   "source": [
    "#analysis=\"HWWAnalysis\"\n",
    "analysis=\"HyyAnalysis\"\n",
    "#analysis=\"HZZAnalysis\"\n",
    "#analysis=\"SingleTopAnalysis\"\n",
    "#analysis=\"SUSYAnalysis\"\n",
    "#analysis=\"TTbarAnalysis\"\n",
    "#analysis=\"WBosonAnalysis\"\n",
    "#analysis=\"WZDiBosonAnalysis\"\n",
    "#analysis=\"ZBosonAnalysis\"\n",
    "#analysis=\"ZPrimeBoostedAnalysis\"\n",
    "#analysis=\"ZTauTauAnalysis\"\n",
    "#analysis=\"ZZDiBosonAnalysis\""
   ]
  },
  {
   "cell_type": "code",
   "execution_count": 16,
   "metadata": {
    "collapsed": true
   },
   "outputs": [],
   "source": [
    "os.chdir(\"Analysis/\"+analysis)"
   ]
  },
  {
   "cell_type": "code",
   "execution_count": 17,
   "metadata": {
    "collapsed": false
   },
   "outputs": [
    {
     "name": "stdout",
     "output_type": "stream",
     "text": [
      "/home/student/CHEP-2019/CERN_Summer_Student_demo_2019/notebooks/atlas-demo-Hyy/atlas-outreach-cpp-framework-13tev/Alpha/Analysis/HyyAnalysis\n",
      "\n"
     ]
    }
   ],
   "source": [
    "myCmd = os.popen('pwd').read()\n",
    "print(myCmd)"
   ]
  },
  {
   "cell_type": "markdown",
   "metadata": {},
   "source": [
    "### Run the C++ code now"
   ]
  },
  {
   "cell_type": "code",
   "execution_count": 18,
   "metadata": {
    "collapsed": false
   },
   "outputs": [
    {
     "data": {
      "text/plain": [
       "0"
      ]
     },
     "execution_count": 18,
     "metadata": {},
     "output_type": "execute_result"
    }
   ],
   "source": [
    "command4 = \"./run.sh\"\n",
    "os.system(command4)"
   ]
  },
  {
   "cell_type": "markdown",
   "metadata": {},
   "source": [
    "#### The analysis will run"
   ]
  },
  {
   "cell_type": "code",
   "execution_count": 19,
   "metadata": {
    "collapsed": true
   },
   "outputs": [],
   "source": [
    "os.chdir(\"../../Plotting/\")"
   ]
  },
  {
   "cell_type": "code",
   "execution_count": 20,
   "metadata": {
    "collapsed": false
   },
   "outputs": [
    {
     "name": "stdout",
     "output_type": "stream",
     "text": [
      "/home/student/CHEP-2019/CERN_Summer_Student_demo_2019/notebooks/atlas-demo-Hyy/atlas-outreach-cpp-framework-13tev/Alpha/Plotting\n",
      "\n"
     ]
    }
   ],
   "source": [
    "myCmd = os.popen('pwd').read()\n",
    "print(myCmd)"
   ]
  },
  {
   "cell_type": "markdown",
   "metadata": {},
   "source": [
    "### Let's run the Plotting code\n",
    "### Select the right analysis\n",
    "#### The options are:\n",
    "0 = WBosonAnalysis\n",
    "\n",
    "1 = ZBosonAnalysis\n",
    "\n",
    "2 = TTbarAnalysis\n",
    "\n",
    "3 = SingleTopAnalysis\n",
    "\n",
    "4 = WZDiBosonAnalysis\n",
    "\n",
    "5 = ZZDiBosonAnalysis\n",
    "\n",
    "6 = HWWAnalysis\n",
    "\n",
    "7 = HZZAnalysis\n",
    "\n",
    "8 = ZTauTauAnalysis\n",
    "\n",
    "9 = HyyAnalysis\n",
    "\n",
    "10 = SUSYAnalysis\n",
    "\n",
    "11 = ZPrimeBoostedAnalysis"
   ]
  },
  {
   "cell_type": "code",
   "execution_count": 21,
   "metadata": {
    "collapsed": false
   },
   "outputs": [
    {
     "data": {
      "text/plain": [
       "0"
      ]
     },
     "execution_count": 21,
     "metadata": {},
     "output_type": "execute_result"
    }
   ],
   "source": [
    "command5 = \"echo \\\"9\\n0\\\" | ./plotme.sh\"\n",
    "os.system(command5)"
   ]
  },
  {
   "cell_type": "code",
   "execution_count": 22,
   "metadata": {
    "collapsed": false
   },
   "outputs": [
    {
     "name": "stdout",
     "output_type": "stream",
     "text": [
      "-rw-r--r-- 1 summerstudent users 25K Nov 17 12:39 histograms/hist_mYY_bin1.png\n",
      "-rw-r--r-- 1 summerstudent users 27K Nov 17 12:39 histograms/hist_mYY_cat_bin1.png\n",
      "\n"
     ]
    }
   ],
   "source": [
    "myCmd = os.popen('ls -lhrt histograms/*png').read()\n",
    "print(myCmd)"
   ]
  },
  {
   "cell_type": "markdown",
   "metadata": {},
   "source": [
    "<CENTER>\n",
    "    <h2> The two photons invariant mass </h2>\n",
    "    <img src=\"atlas-demo-Hyy/atlas-outreach-cpp-framework-13tev/Plotting/histograms/hist_mYY_bin1.png\"  alt=\"mass\" width=\"700\" height=\"400\">\n",
    "</CENTER>"
   ]
  },
  {
   "cell_type": "code",
   "execution_count": 23,
   "metadata": {
    "collapsed": false
   },
   "outputs": [
    {
     "name": "stdout",
     "output_type": "stream",
     "text": [
      "Son Nov 17 12:39:12 CET 2019\n",
      "\n",
      "Analysis finished in 3 min 5 s\n"
     ]
    }
   ],
   "source": [
    "myCmd = os.popen('date').read()\n",
    "print(myCmd)\n",
    "endtime = datetime.datetime.now()\n",
    "print(\"Analysis finished in {} min {} s\").format(((endtime - starttime).seconds)/60,((endtime - starttime).seconds)%60)"
   ]
  },
  {
   "cell_type": "markdown",
   "metadata": {},
   "source": [
    "### Done!"
   ]
  }
 ],
 "metadata": {
  "kernelspec": {
   "display_name": "Python 2",
   "language": "python",
   "name": "python2"
  },
  "language_info": {
   "codemirror_mode": {
    "name": "ipython",
    "version": 2
   },
   "file_extension": ".py",
   "mimetype": "text/x-python",
   "name": "python",
   "nbconvert_exporter": "python",
   "pygments_lexer": "ipython2",
   "version": "2.7.9"
  }
 },
 "nbformat": 4,
 "nbformat_minor": 1
}
